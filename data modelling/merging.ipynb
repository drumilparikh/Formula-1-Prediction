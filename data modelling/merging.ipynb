{
 "cells": [
  {
   "cell_type": "code",
   "execution_count": 2,
   "metadata": {
    "ExecuteTime": {
     "end_time": "2020-05-09T11:44:29.928757Z",
     "start_time": "2020-05-09T11:44:29.676568Z"
    }
   },
   "outputs": [],
   "source": [
    "import pandas as pd\n",
    "import numpy as np"
   ]
  },
  {
   "cell_type": "code",
   "execution_count": 3,
   "metadata": {
    "ExecuteTime": {
     "end_time": "2020-05-09T11:44:30.574362Z",
     "start_time": "2020-05-09T11:44:30.438443Z"
    }
   },
   "outputs": [],
   "source": [
    "races = pd.read_csv('/home/drumil/Formula_1-master/data collection/races.csv')\n",
    "results = pd.read_csv('/home/drumil/Formula_1-master/data collection/results.csv')\n",
    "qualifying = pd.read_csv('/home/drumil/Formula_1-master/data collection/qualifying.csv')\n",
    "driver_standings = pd.read_csv('/home/drumil/Formula_1-master/data collection/driver_standings.csv')\n",
    "constructor_standings = pd.read_csv('/home/drumil/Formula_1-master/data collection/constructor_standings.csv')"
   ]
  },
  {
   "cell_type": "code",
   "execution_count": 4,
   "metadata": {
    "ExecuteTime": {
     "end_time": "2020-05-09T11:44:31.617568Z",
     "start_time": "2020-05-09T11:44:31.587118Z"
    }
   },
   "outputs": [
    {
     "name": "stdout",
     "output_type": "stream",
     "text": [
      "(160, 8)\n"
     ]
    },
    {
     "data": {
      "text/html": [
       "<div>\n",
       "<style scoped>\n",
       "    .dataframe tbody tr th:only-of-type {\n",
       "        vertical-align: middle;\n",
       "    }\n",
       "\n",
       "    .dataframe tbody tr th {\n",
       "        vertical-align: top;\n",
       "    }\n",
       "\n",
       "    .dataframe thead th {\n",
       "        text-align: right;\n",
       "    }\n",
       "</style>\n",
       "<table border=\"1\" class=\"dataframe\">\n",
       "  <thead>\n",
       "    <tr style=\"text-align: right;\">\n",
       "      <th></th>\n",
       "      <th>season</th>\n",
       "      <th>round</th>\n",
       "      <th>circuit_id</th>\n",
       "      <th>lat</th>\n",
       "      <th>long</th>\n",
       "      <th>country</th>\n",
       "      <th>date</th>\n",
       "      <th>url</th>\n",
       "    </tr>\n",
       "  </thead>\n",
       "  <tbody>\n",
       "    <tr>\n",
       "      <th>0</th>\n",
       "      <td>2014</td>\n",
       "      <td>1</td>\n",
       "      <td>albert_park</td>\n",
       "      <td>-37.84970</td>\n",
       "      <td>144.96800</td>\n",
       "      <td>Australia</td>\n",
       "      <td>2014-03-16</td>\n",
       "      <td>http://en.wikipedia.org/wiki/2014_Australian_G...</td>\n",
       "    </tr>\n",
       "    <tr>\n",
       "      <th>1</th>\n",
       "      <td>2014</td>\n",
       "      <td>2</td>\n",
       "      <td>sepang</td>\n",
       "      <td>2.76083</td>\n",
       "      <td>101.73800</td>\n",
       "      <td>Malaysia</td>\n",
       "      <td>2014-03-30</td>\n",
       "      <td>http://en.wikipedia.org/wiki/2014_Malaysian_Gr...</td>\n",
       "    </tr>\n",
       "    <tr>\n",
       "      <th>2</th>\n",
       "      <td>2014</td>\n",
       "      <td>3</td>\n",
       "      <td>bahrain</td>\n",
       "      <td>26.03250</td>\n",
       "      <td>50.51060</td>\n",
       "      <td>Bahrain</td>\n",
       "      <td>2014-04-06</td>\n",
       "      <td>http://en.wikipedia.org/wiki/2014_Bahrain_Gran...</td>\n",
       "    </tr>\n",
       "    <tr>\n",
       "      <th>3</th>\n",
       "      <td>2014</td>\n",
       "      <td>4</td>\n",
       "      <td>shanghai</td>\n",
       "      <td>31.33890</td>\n",
       "      <td>121.22000</td>\n",
       "      <td>China</td>\n",
       "      <td>2014-04-20</td>\n",
       "      <td>http://en.wikipedia.org/wiki/2014_Chinese_Gran...</td>\n",
       "    </tr>\n",
       "    <tr>\n",
       "      <th>4</th>\n",
       "      <td>2014</td>\n",
       "      <td>5</td>\n",
       "      <td>catalunya</td>\n",
       "      <td>41.57000</td>\n",
       "      <td>2.26111</td>\n",
       "      <td>Spain</td>\n",
       "      <td>2014-05-11</td>\n",
       "      <td>http://en.wikipedia.org/wiki/2014_Spanish_Gran...</td>\n",
       "    </tr>\n",
       "  </tbody>\n",
       "</table>\n",
       "</div>"
      ],
      "text/plain": [
       "   season  round   circuit_id       lat       long    country        date  \\\n",
       "0    2014      1  albert_park -37.84970  144.96800  Australia  2014-03-16   \n",
       "1    2014      2       sepang   2.76083  101.73800   Malaysia  2014-03-30   \n",
       "2    2014      3      bahrain  26.03250   50.51060    Bahrain  2014-04-06   \n",
       "3    2014      4     shanghai  31.33890  121.22000      China  2014-04-20   \n",
       "4    2014      5    catalunya  41.57000    2.26111      Spain  2014-05-11   \n",
       "\n",
       "                                                 url  \n",
       "0  http://en.wikipedia.org/wiki/2014_Australian_G...  \n",
       "1  http://en.wikipedia.org/wiki/2014_Malaysian_Gr...  \n",
       "2  http://en.wikipedia.org/wiki/2014_Bahrain_Gran...  \n",
       "3  http://en.wikipedia.org/wiki/2014_Chinese_Gran...  \n",
       "4  http://en.wikipedia.org/wiki/2014_Spanish_Gran...  "
      ]
     },
     "execution_count": 4,
     "metadata": {},
     "output_type": "execute_result"
    }
   ],
   "source": [
    "print(races.shape)\n",
    "races.head()"
   ]
  },
  {
   "cell_type": "code",
   "execution_count": 5,
   "metadata": {
    "ExecuteTime": {
     "end_time": "2020-05-09T11:44:32.704668Z",
     "start_time": "2020-05-09T11:44:32.675650Z"
    }
   },
   "outputs": [
    {
     "name": "stdout",
     "output_type": "stream",
     "text": [
      "(3267, 13)\n"
     ]
    },
    {
     "data": {
      "text/html": [
       "<div>\n",
       "<style scoped>\n",
       "    .dataframe tbody tr th:only-of-type {\n",
       "        vertical-align: middle;\n",
       "    }\n",
       "\n",
       "    .dataframe tbody tr th {\n",
       "        vertical-align: top;\n",
       "    }\n",
       "\n",
       "    .dataframe thead th {\n",
       "        text-align: right;\n",
       "    }\n",
       "</style>\n",
       "<table border=\"1\" class=\"dataframe\">\n",
       "  <thead>\n",
       "    <tr style=\"text-align: right;\">\n",
       "      <th></th>\n",
       "      <th>season</th>\n",
       "      <th>round</th>\n",
       "      <th>circuit_id</th>\n",
       "      <th>driver</th>\n",
       "      <th>date_of_birth</th>\n",
       "      <th>nationality</th>\n",
       "      <th>constructor</th>\n",
       "      <th>grid</th>\n",
       "      <th>time</th>\n",
       "      <th>status</th>\n",
       "      <th>points</th>\n",
       "      <th>podium</th>\n",
       "      <th>url</th>\n",
       "    </tr>\n",
       "  </thead>\n",
       "  <tbody>\n",
       "    <tr>\n",
       "      <th>0</th>\n",
       "      <td>2014</td>\n",
       "      <td>1</td>\n",
       "      <td>albert_park</td>\n",
       "      <td>rosberg</td>\n",
       "      <td>1985-06-27</td>\n",
       "      <td>German</td>\n",
       "      <td>mercedes</td>\n",
       "      <td>3</td>\n",
       "      <td>5578710.0</td>\n",
       "      <td>Finished</td>\n",
       "      <td>25.0</td>\n",
       "      <td>1</td>\n",
       "      <td>http://en.wikipedia.org/wiki/2014_Australian_G...</td>\n",
       "    </tr>\n",
       "    <tr>\n",
       "      <th>1</th>\n",
       "      <td>2014</td>\n",
       "      <td>1</td>\n",
       "      <td>albert_park</td>\n",
       "      <td>kevin_magnussen</td>\n",
       "      <td>1992-10-05</td>\n",
       "      <td>Danish</td>\n",
       "      <td>mclaren</td>\n",
       "      <td>4</td>\n",
       "      <td>5605487.0</td>\n",
       "      <td>Finished</td>\n",
       "      <td>18.0</td>\n",
       "      <td>2</td>\n",
       "      <td>http://en.wikipedia.org/wiki/2014_Australian_G...</td>\n",
       "    </tr>\n",
       "    <tr>\n",
       "      <th>2</th>\n",
       "      <td>2014</td>\n",
       "      <td>1</td>\n",
       "      <td>albert_park</td>\n",
       "      <td>button</td>\n",
       "      <td>1980-01-19</td>\n",
       "      <td>British</td>\n",
       "      <td>mclaren</td>\n",
       "      <td>10</td>\n",
       "      <td>5608737.0</td>\n",
       "      <td>Finished</td>\n",
       "      <td>15.0</td>\n",
       "      <td>3</td>\n",
       "      <td>http://en.wikipedia.org/wiki/2014_Australian_G...</td>\n",
       "    </tr>\n",
       "    <tr>\n",
       "      <th>3</th>\n",
       "      <td>2014</td>\n",
       "      <td>1</td>\n",
       "      <td>albert_park</td>\n",
       "      <td>alonso</td>\n",
       "      <td>1981-07-29</td>\n",
       "      <td>Spanish</td>\n",
       "      <td>ferrari</td>\n",
       "      <td>5</td>\n",
       "      <td>5613994.0</td>\n",
       "      <td>Finished</td>\n",
       "      <td>12.0</td>\n",
       "      <td>4</td>\n",
       "      <td>http://en.wikipedia.org/wiki/2014_Australian_G...</td>\n",
       "    </tr>\n",
       "    <tr>\n",
       "      <th>4</th>\n",
       "      <td>2014</td>\n",
       "      <td>1</td>\n",
       "      <td>albert_park</td>\n",
       "      <td>bottas</td>\n",
       "      <td>1989-08-28</td>\n",
       "      <td>Finnish</td>\n",
       "      <td>williams</td>\n",
       "      <td>15</td>\n",
       "      <td>5626349.0</td>\n",
       "      <td>Finished</td>\n",
       "      <td>10.0</td>\n",
       "      <td>5</td>\n",
       "      <td>http://en.wikipedia.org/wiki/2014_Australian_G...</td>\n",
       "    </tr>\n",
       "  </tbody>\n",
       "</table>\n",
       "</div>"
      ],
      "text/plain": [
       "   season  round   circuit_id           driver date_of_birth nationality  \\\n",
       "0    2014      1  albert_park          rosberg    1985-06-27      German   \n",
       "1    2014      1  albert_park  kevin_magnussen    1992-10-05      Danish   \n",
       "2    2014      1  albert_park           button    1980-01-19     British   \n",
       "3    2014      1  albert_park           alonso    1981-07-29     Spanish   \n",
       "4    2014      1  albert_park           bottas    1989-08-28     Finnish   \n",
       "\n",
       "  constructor  grid       time    status  points  podium  \\\n",
       "0    mercedes     3  5578710.0  Finished    25.0       1   \n",
       "1     mclaren     4  5605487.0  Finished    18.0       2   \n",
       "2     mclaren    10  5608737.0  Finished    15.0       3   \n",
       "3     ferrari     5  5613994.0  Finished    12.0       4   \n",
       "4    williams    15  5626349.0  Finished    10.0       5   \n",
       "\n",
       "                                                 url  \n",
       "0  http://en.wikipedia.org/wiki/2014_Australian_G...  \n",
       "1  http://en.wikipedia.org/wiki/2014_Australian_G...  \n",
       "2  http://en.wikipedia.org/wiki/2014_Australian_G...  \n",
       "3  http://en.wikipedia.org/wiki/2014_Australian_G...  \n",
       "4  http://en.wikipedia.org/wiki/2014_Australian_G...  "
      ]
     },
     "execution_count": 5,
     "metadata": {},
     "output_type": "execute_result"
    }
   ],
   "source": [
    "print(results.shape)\n",
    "results.head()"
   ]
  },
  {
   "cell_type": "code",
   "execution_count": 6,
   "metadata": {
    "ExecuteTime": {
     "end_time": "2020-05-09T11:44:33.810512Z",
     "start_time": "2020-05-09T11:44:33.790824Z"
    }
   },
   "outputs": [
    {
     "name": "stdout",
     "output_type": "stream",
     "text": [
      "(3229, 7)\n"
     ]
    },
    {
     "data": {
      "text/html": [
       "<div>\n",
       "<style scoped>\n",
       "    .dataframe tbody tr th:only-of-type {\n",
       "        vertical-align: middle;\n",
       "    }\n",
       "\n",
       "    .dataframe tbody tr th {\n",
       "        vertical-align: top;\n",
       "    }\n",
       "\n",
       "    .dataframe thead th {\n",
       "        text-align: right;\n",
       "    }\n",
       "</style>\n",
       "<table border=\"1\" class=\"dataframe\">\n",
       "  <thead>\n",
       "    <tr style=\"text-align: right;\">\n",
       "      <th></th>\n",
       "      <th>grid</th>\n",
       "      <th>No</th>\n",
       "      <th>driver_name</th>\n",
       "      <th>car</th>\n",
       "      <th>qualifying_time</th>\n",
       "      <th>season</th>\n",
       "      <th>round</th>\n",
       "    </tr>\n",
       "  </thead>\n",
       "  <tbody>\n",
       "    <tr>\n",
       "      <th>0</th>\n",
       "      <td>1</td>\n",
       "      <td>44</td>\n",
       "      <td>Lewis  Hamilton  HAM</td>\n",
       "      <td>Mercedes</td>\n",
       "      <td>1:44.231</td>\n",
       "      <td>2014</td>\n",
       "      <td>1</td>\n",
       "    </tr>\n",
       "    <tr>\n",
       "      <th>1</th>\n",
       "      <td>2</td>\n",
       "      <td>3</td>\n",
       "      <td>Daniel  Ricciardo  RIC</td>\n",
       "      <td>Red Bull Racing Renault</td>\n",
       "      <td>1:44.548</td>\n",
       "      <td>2014</td>\n",
       "      <td>1</td>\n",
       "    </tr>\n",
       "    <tr>\n",
       "      <th>2</th>\n",
       "      <td>3</td>\n",
       "      <td>6</td>\n",
       "      <td>Nico  Rosberg  ROS</td>\n",
       "      <td>Mercedes</td>\n",
       "      <td>1:44.595</td>\n",
       "      <td>2014</td>\n",
       "      <td>1</td>\n",
       "    </tr>\n",
       "    <tr>\n",
       "      <th>3</th>\n",
       "      <td>4</td>\n",
       "      <td>20</td>\n",
       "      <td>Kevin  Magnussen  MAG</td>\n",
       "      <td>McLaren Mercedes</td>\n",
       "      <td>1:45.745</td>\n",
       "      <td>2014</td>\n",
       "      <td>1</td>\n",
       "    </tr>\n",
       "    <tr>\n",
       "      <th>4</th>\n",
       "      <td>5</td>\n",
       "      <td>14</td>\n",
       "      <td>Fernando  Alonso  ALO</td>\n",
       "      <td>Ferrari</td>\n",
       "      <td>1:45.819</td>\n",
       "      <td>2014</td>\n",
       "      <td>1</td>\n",
       "    </tr>\n",
       "  </tbody>\n",
       "</table>\n",
       "</div>"
      ],
      "text/plain": [
       "   grid  No             driver_name                      car qualifying_time  \\\n",
       "0     1  44    Lewis  Hamilton  HAM                 Mercedes        1:44.231   \n",
       "1     2   3  Daniel  Ricciardo  RIC  Red Bull Racing Renault        1:44.548   \n",
       "2     3   6      Nico  Rosberg  ROS                 Mercedes        1:44.595   \n",
       "3     4  20   Kevin  Magnussen  MAG         McLaren Mercedes        1:45.745   \n",
       "4     5  14   Fernando  Alonso  ALO                  Ferrari        1:45.819   \n",
       "\n",
       "   season  round  \n",
       "0    2014      1  \n",
       "1    2014      1  \n",
       "2    2014      1  \n",
       "3    2014      1  \n",
       "4    2014      1  "
      ]
     },
     "execution_count": 6,
     "metadata": {},
     "output_type": "execute_result"
    }
   ],
   "source": [
    "print(qualifying.shape)\n",
    "qualifying.rename(columns = {'grid_position': 'grid'}, inplace = True)\n",
    "qualifying.head()"
   ]
  },
  {
   "cell_type": "code",
   "execution_count": 7,
   "metadata": {
    "ExecuteTime": {
     "end_time": "2020-05-09T11:44:34.825638Z",
     "start_time": "2020-05-09T11:44:34.805493Z"
    }
   },
   "outputs": [
    {
     "name": "stdout",
     "output_type": "stream",
     "text": [
      "(3422, 6)\n"
     ]
    },
    {
     "data": {
      "text/html": [
       "<div>\n",
       "<style scoped>\n",
       "    .dataframe tbody tr th:only-of-type {\n",
       "        vertical-align: middle;\n",
       "    }\n",
       "\n",
       "    .dataframe tbody tr th {\n",
       "        vertical-align: top;\n",
       "    }\n",
       "\n",
       "    .dataframe thead th {\n",
       "        text-align: right;\n",
       "    }\n",
       "</style>\n",
       "<table border=\"1\" class=\"dataframe\">\n",
       "  <thead>\n",
       "    <tr style=\"text-align: right;\">\n",
       "      <th></th>\n",
       "      <th>season</th>\n",
       "      <th>round</th>\n",
       "      <th>driver</th>\n",
       "      <th>driver_points</th>\n",
       "      <th>driver_wins</th>\n",
       "      <th>driver_standings_pos</th>\n",
       "    </tr>\n",
       "  </thead>\n",
       "  <tbody>\n",
       "    <tr>\n",
       "      <th>0</th>\n",
       "      <td>2014</td>\n",
       "      <td>1</td>\n",
       "      <td>rosberg</td>\n",
       "      <td>0.0</td>\n",
       "      <td>0.0</td>\n",
       "      <td>0.0</td>\n",
       "    </tr>\n",
       "    <tr>\n",
       "      <th>1</th>\n",
       "      <td>2014</td>\n",
       "      <td>1</td>\n",
       "      <td>kevin_magnussen</td>\n",
       "      <td>0.0</td>\n",
       "      <td>0.0</td>\n",
       "      <td>0.0</td>\n",
       "    </tr>\n",
       "    <tr>\n",
       "      <th>2</th>\n",
       "      <td>2014</td>\n",
       "      <td>1</td>\n",
       "      <td>button</td>\n",
       "      <td>0.0</td>\n",
       "      <td>0.0</td>\n",
       "      <td>0.0</td>\n",
       "    </tr>\n",
       "    <tr>\n",
       "      <th>3</th>\n",
       "      <td>2014</td>\n",
       "      <td>1</td>\n",
       "      <td>alonso</td>\n",
       "      <td>0.0</td>\n",
       "      <td>0.0</td>\n",
       "      <td>0.0</td>\n",
       "    </tr>\n",
       "    <tr>\n",
       "      <th>4</th>\n",
       "      <td>2014</td>\n",
       "      <td>1</td>\n",
       "      <td>bottas</td>\n",
       "      <td>0.0</td>\n",
       "      <td>0.0</td>\n",
       "      <td>0.0</td>\n",
       "    </tr>\n",
       "  </tbody>\n",
       "</table>\n",
       "</div>"
      ],
      "text/plain": [
       "   season  round           driver  driver_points  driver_wins  \\\n",
       "0    2014      1          rosberg            0.0          0.0   \n",
       "1    2014      1  kevin_magnussen            0.0          0.0   \n",
       "2    2014      1           button            0.0          0.0   \n",
       "3    2014      1           alonso            0.0          0.0   \n",
       "4    2014      1           bottas            0.0          0.0   \n",
       "\n",
       "   driver_standings_pos  \n",
       "0                   0.0  \n",
       "1                   0.0  \n",
       "2                   0.0  \n",
       "3                   0.0  \n",
       "4                   0.0  "
      ]
     },
     "execution_count": 7,
     "metadata": {},
     "output_type": "execute_result"
    }
   ],
   "source": [
    "driver_standings.drop(['driver_points_after_race', 'driver_wins_after_race', 'driver_standings_pos_after_race'] ,axis = 1, inplace = True)\n",
    "\n",
    "print(driver_standings.shape)\n",
    "driver_standings.head()"
   ]
  },
  {
   "cell_type": "code",
   "execution_count": 8,
   "metadata": {
    "ExecuteTime": {
     "end_time": "2020-05-09T11:44:35.847377Z",
     "start_time": "2020-05-09T11:44:35.825676Z"
    }
   },
   "outputs": [
    {
     "name": "stdout",
     "output_type": "stream",
     "text": [
      "(1639, 6)\n"
     ]
    },
    {
     "data": {
      "text/html": [
       "<div>\n",
       "<style scoped>\n",
       "    .dataframe tbody tr th:only-of-type {\n",
       "        vertical-align: middle;\n",
       "    }\n",
       "\n",
       "    .dataframe tbody tr th {\n",
       "        vertical-align: top;\n",
       "    }\n",
       "\n",
       "    .dataframe thead th {\n",
       "        text-align: right;\n",
       "    }\n",
       "</style>\n",
       "<table border=\"1\" class=\"dataframe\">\n",
       "  <thead>\n",
       "    <tr style=\"text-align: right;\">\n",
       "      <th></th>\n",
       "      <th>season</th>\n",
       "      <th>round</th>\n",
       "      <th>constructor</th>\n",
       "      <th>constructor_points</th>\n",
       "      <th>constructor_wins</th>\n",
       "      <th>constructor_standings_pos</th>\n",
       "    </tr>\n",
       "  </thead>\n",
       "  <tbody>\n",
       "    <tr>\n",
       "      <th>0</th>\n",
       "      <td>2014</td>\n",
       "      <td>1</td>\n",
       "      <td>mclaren</td>\n",
       "      <td>0.0</td>\n",
       "      <td>0.0</td>\n",
       "      <td>0.0</td>\n",
       "    </tr>\n",
       "    <tr>\n",
       "      <th>1</th>\n",
       "      <td>2014</td>\n",
       "      <td>1</td>\n",
       "      <td>mercedes</td>\n",
       "      <td>0.0</td>\n",
       "      <td>0.0</td>\n",
       "      <td>0.0</td>\n",
       "    </tr>\n",
       "    <tr>\n",
       "      <th>2</th>\n",
       "      <td>2014</td>\n",
       "      <td>1</td>\n",
       "      <td>ferrari</td>\n",
       "      <td>0.0</td>\n",
       "      <td>0.0</td>\n",
       "      <td>0.0</td>\n",
       "    </tr>\n",
       "    <tr>\n",
       "      <th>3</th>\n",
       "      <td>2014</td>\n",
       "      <td>1</td>\n",
       "      <td>williams</td>\n",
       "      <td>0.0</td>\n",
       "      <td>0.0</td>\n",
       "      <td>0.0</td>\n",
       "    </tr>\n",
       "    <tr>\n",
       "      <th>4</th>\n",
       "      <td>2014</td>\n",
       "      <td>1</td>\n",
       "      <td>force_india</td>\n",
       "      <td>0.0</td>\n",
       "      <td>0.0</td>\n",
       "      <td>0.0</td>\n",
       "    </tr>\n",
       "  </tbody>\n",
       "</table>\n",
       "</div>"
      ],
      "text/plain": [
       "   season  round  constructor  constructor_points  constructor_wins  \\\n",
       "0    2014      1      mclaren                 0.0               0.0   \n",
       "1    2014      1     mercedes                 0.0               0.0   \n",
       "2    2014      1      ferrari                 0.0               0.0   \n",
       "3    2014      1     williams                 0.0               0.0   \n",
       "4    2014      1  force_india                 0.0               0.0   \n",
       "\n",
       "   constructor_standings_pos  \n",
       "0                        0.0  \n",
       "1                        0.0  \n",
       "2                        0.0  \n",
       "3                        0.0  \n",
       "4                        0.0  "
      ]
     },
     "execution_count": 8,
     "metadata": {},
     "output_type": "execute_result"
    }
   ],
   "source": [
    "constructor_standings.drop(['constructor_points_after_race', 'constructor_wins_after_race','constructor_standings_pos_after_race' ],axis = 1, inplace = True)\n",
    "\n",
    "print(constructor_standings.shape)\n",
    "constructor_standings.head()"
   ]
  },
  {
   "cell_type": "code",
   "execution_count": null,
   "metadata": {
    "ExecuteTime": {
     "end_time": "2020-05-09T11:44:36.775822Z",
     "start_time": "2020-05-09T11:44:36.751736Z"
    }
   },
   "outputs": [],
   "source": []
  },
  {
   "cell_type": "code",
   "execution_count": 9,
   "metadata": {
    "ExecuteTime": {
     "end_time": "2020-05-09T11:44:37.818374Z",
     "start_time": "2020-05-09T11:44:37.678610Z"
    }
   },
   "outputs": [],
   "source": [
    "df2 = pd.merge(races, results, how='inner', on=['season', 'round', 'circuit_id', 'url']).drop(['url','points', 'status', 'time'], axis = 1)\n",
    "\n",
    "df3 = pd.merge(df2, driver_standings, how='left', on=['season', 'round', 'driver']) \n",
    "df4 = pd.merge(df3, constructor_standings, how='left', on=['season', 'round', 'constructor']) #from 1958\n",
    "\n",
    "final_df = pd.merge(df4, qualifying, how='inner', on=['season', 'round', 'grid']).drop(['driver_name', 'car'], axis = 1) #from 1983\n"
   ]
  },
  {
   "cell_type": "code",
   "execution_count": 10,
   "metadata": {
    "ExecuteTime": {
     "end_time": "2020-05-09T11:44:39.695077Z",
     "start_time": "2020-05-09T11:44:39.664110Z"
    }
   },
   "outputs": [
    {
     "data": {
      "text/html": [
       "<div>\n",
       "<style scoped>\n",
       "    .dataframe tbody tr th:only-of-type {\n",
       "        vertical-align: middle;\n",
       "    }\n",
       "\n",
       "    .dataframe tbody tr th {\n",
       "        vertical-align: top;\n",
       "    }\n",
       "\n",
       "    .dataframe thead th {\n",
       "        text-align: right;\n",
       "    }\n",
       "</style>\n",
       "<table border=\"1\" class=\"dataframe\">\n",
       "  <thead>\n",
       "    <tr style=\"text-align: right;\">\n",
       "      <th></th>\n",
       "      <th>season</th>\n",
       "      <th>round</th>\n",
       "      <th>circuit_id</th>\n",
       "      <th>lat</th>\n",
       "      <th>long</th>\n",
       "      <th>country</th>\n",
       "      <th>date</th>\n",
       "      <th>driver</th>\n",
       "      <th>date_of_birth</th>\n",
       "      <th>nationality</th>\n",
       "      <th>...</th>\n",
       "      <th>grid</th>\n",
       "      <th>podium</th>\n",
       "      <th>driver_points</th>\n",
       "      <th>driver_wins</th>\n",
       "      <th>driver_standings_pos</th>\n",
       "      <th>constructor_points</th>\n",
       "      <th>constructor_wins</th>\n",
       "      <th>constructor_standings_pos</th>\n",
       "      <th>No</th>\n",
       "      <th>qualifying_time</th>\n",
       "    </tr>\n",
       "  </thead>\n",
       "  <tbody>\n",
       "    <tr>\n",
       "      <th>0</th>\n",
       "      <td>2014</td>\n",
       "      <td>1</td>\n",
       "      <td>albert_park</td>\n",
       "      <td>-37.8497</td>\n",
       "      <td>144.968</td>\n",
       "      <td>Australia</td>\n",
       "      <td>2014-03-16</td>\n",
       "      <td>rosberg</td>\n",
       "      <td>1985-06-27</td>\n",
       "      <td>German</td>\n",
       "      <td>...</td>\n",
       "      <td>3</td>\n",
       "      <td>1</td>\n",
       "      <td>0.0</td>\n",
       "      <td>0.0</td>\n",
       "      <td>0.0</td>\n",
       "      <td>0.0</td>\n",
       "      <td>0.0</td>\n",
       "      <td>0.0</td>\n",
       "      <td>6</td>\n",
       "      <td>1:44.595</td>\n",
       "    </tr>\n",
       "    <tr>\n",
       "      <th>1</th>\n",
       "      <td>2014</td>\n",
       "      <td>1</td>\n",
       "      <td>albert_park</td>\n",
       "      <td>-37.8497</td>\n",
       "      <td>144.968</td>\n",
       "      <td>Australia</td>\n",
       "      <td>2014-03-16</td>\n",
       "      <td>kevin_magnussen</td>\n",
       "      <td>1992-10-05</td>\n",
       "      <td>Danish</td>\n",
       "      <td>...</td>\n",
       "      <td>4</td>\n",
       "      <td>2</td>\n",
       "      <td>0.0</td>\n",
       "      <td>0.0</td>\n",
       "      <td>0.0</td>\n",
       "      <td>0.0</td>\n",
       "      <td>0.0</td>\n",
       "      <td>0.0</td>\n",
       "      <td>20</td>\n",
       "      <td>1:45.745</td>\n",
       "    </tr>\n",
       "    <tr>\n",
       "      <th>2</th>\n",
       "      <td>2014</td>\n",
       "      <td>1</td>\n",
       "      <td>albert_park</td>\n",
       "      <td>-37.8497</td>\n",
       "      <td>144.968</td>\n",
       "      <td>Australia</td>\n",
       "      <td>2014-03-16</td>\n",
       "      <td>button</td>\n",
       "      <td>1980-01-19</td>\n",
       "      <td>British</td>\n",
       "      <td>...</td>\n",
       "      <td>10</td>\n",
       "      <td>3</td>\n",
       "      <td>0.0</td>\n",
       "      <td>0.0</td>\n",
       "      <td>0.0</td>\n",
       "      <td>0.0</td>\n",
       "      <td>0.0</td>\n",
       "      <td>0.0</td>\n",
       "      <td>22</td>\n",
       "      <td>1:44.437</td>\n",
       "    </tr>\n",
       "    <tr>\n",
       "      <th>3</th>\n",
       "      <td>2014</td>\n",
       "      <td>1</td>\n",
       "      <td>albert_park</td>\n",
       "      <td>-37.8497</td>\n",
       "      <td>144.968</td>\n",
       "      <td>Australia</td>\n",
       "      <td>2014-03-16</td>\n",
       "      <td>alonso</td>\n",
       "      <td>1981-07-29</td>\n",
       "      <td>Spanish</td>\n",
       "      <td>...</td>\n",
       "      <td>5</td>\n",
       "      <td>4</td>\n",
       "      <td>0.0</td>\n",
       "      <td>0.0</td>\n",
       "      <td>0.0</td>\n",
       "      <td>0.0</td>\n",
       "      <td>0.0</td>\n",
       "      <td>0.0</td>\n",
       "      <td>14</td>\n",
       "      <td>1:45.819</td>\n",
       "    </tr>\n",
       "    <tr>\n",
       "      <th>4</th>\n",
       "      <td>2014</td>\n",
       "      <td>1</td>\n",
       "      <td>albert_park</td>\n",
       "      <td>-37.8497</td>\n",
       "      <td>144.968</td>\n",
       "      <td>Australia</td>\n",
       "      <td>2014-03-16</td>\n",
       "      <td>bottas</td>\n",
       "      <td>1989-08-28</td>\n",
       "      <td>Finnish</td>\n",
       "      <td>...</td>\n",
       "      <td>15</td>\n",
       "      <td>5</td>\n",
       "      <td>0.0</td>\n",
       "      <td>0.0</td>\n",
       "      <td>0.0</td>\n",
       "      <td>0.0</td>\n",
       "      <td>0.0</td>\n",
       "      <td>0.0</td>\n",
       "      <td>77</td>\n",
       "      <td>1:48.147</td>\n",
       "    </tr>\n",
       "  </tbody>\n",
       "</table>\n",
       "<p>5 rows × 21 columns</p>\n",
       "</div>"
      ],
      "text/plain": [
       "   season  round   circuit_id      lat     long    country        date  \\\n",
       "0    2014      1  albert_park -37.8497  144.968  Australia  2014-03-16   \n",
       "1    2014      1  albert_park -37.8497  144.968  Australia  2014-03-16   \n",
       "2    2014      1  albert_park -37.8497  144.968  Australia  2014-03-16   \n",
       "3    2014      1  albert_park -37.8497  144.968  Australia  2014-03-16   \n",
       "4    2014      1  albert_park -37.8497  144.968  Australia  2014-03-16   \n",
       "\n",
       "            driver date_of_birth nationality  ... grid  podium  driver_points  \\\n",
       "0          rosberg    1985-06-27      German  ...    3       1            0.0   \n",
       "1  kevin_magnussen    1992-10-05      Danish  ...    4       2            0.0   \n",
       "2           button    1980-01-19     British  ...   10       3            0.0   \n",
       "3           alonso    1981-07-29     Spanish  ...    5       4            0.0   \n",
       "4           bottas    1989-08-28     Finnish  ...   15       5            0.0   \n",
       "\n",
       "   driver_wins  driver_standings_pos  constructor_points  constructor_wins  \\\n",
       "0          0.0                   0.0                 0.0               0.0   \n",
       "1          0.0                   0.0                 0.0               0.0   \n",
       "2          0.0                   0.0                 0.0               0.0   \n",
       "3          0.0                   0.0                 0.0               0.0   \n",
       "4          0.0                   0.0                 0.0               0.0   \n",
       "\n",
       "   constructor_standings_pos  No  qualifying_time  \n",
       "0                        0.0   6         1:44.595  \n",
       "1                        0.0  20         1:45.745  \n",
       "2                        0.0  22         1:44.437  \n",
       "3                        0.0  14         1:45.819  \n",
       "4                        0.0  77         1:48.147  \n",
       "\n",
       "[5 rows x 21 columns]"
      ]
     },
     "execution_count": 10,
     "metadata": {},
     "output_type": "execute_result"
    }
   ],
   "source": [
    "final_df.head()"
   ]
  },
  {
   "cell_type": "code",
   "execution_count": 11,
   "metadata": {
    "ExecuteTime": {
     "end_time": "2020-05-09T11:44:43.078224Z",
     "start_time": "2020-05-09T11:44:41.546103Z"
    }
   },
   "outputs": [],
   "source": [
    "# calculate age of drivers\n",
    "\n",
    "from dateutil.relativedelta import *\n",
    "\n",
    "final_df['date'] = pd.to_datetime(final_df.date)\n",
    "final_df['date_of_birth'] = pd.to_datetime(final_df.date_of_birth)\n",
    "final_df['driver_age'] = final_df.apply(lambda x: relativedelta(x['date'], x['date_of_birth']).years, axis=1)\n",
    "final_df.drop(['date', 'date_of_birth'], axis = 1, inplace = True)"
   ]
  },
  {
   "cell_type": "code",
   "execution_count": 12,
   "metadata": {
    "ExecuteTime": {
     "end_time": "2020-05-09T11:44:45.014156Z",
     "start_time": "2020-05-09T11:44:44.947000Z"
    }
   },
   "outputs": [],
   "source": [
    "# fill/drop nulls\n",
    "\n",
    "for col in ['driver_points', 'driver_wins', 'driver_standings_pos', 'constructor_points', \n",
    "            'constructor_wins' , 'constructor_standings_pos']:\n",
    "    final_df[col].fillna(0, inplace = True)\n",
    "    final_df[col] = final_df[col].map(lambda x: int(x))\n",
    "    \n",
    "final_df.dropna(inplace = True )"
   ]
  },
  {
   "cell_type": "code",
   "execution_count": null,
   "metadata": {
    "ExecuteTime": {
     "end_time": "2020-05-09T11:44:46.766854Z",
     "start_time": "2020-05-09T11:44:46.733840Z"
    }
   },
   "outputs": [],
   "source": []
  },
  {
   "cell_type": "code",
   "execution_count": null,
   "metadata": {
    "ExecuteTime": {
     "end_time": "2020-05-09T11:44:48.787635Z",
     "start_time": "2020-05-09T11:44:48.600662Z"
    }
   },
   "outputs": [],
   "source": []
  },
  {
   "cell_type": "code",
   "execution_count": 13,
   "metadata": {
    "ExecuteTime": {
     "end_time": "2020-05-09T11:44:50.807283Z",
     "start_time": "2020-05-09T11:44:50.569533Z"
    }
   },
   "outputs": [],
   "source": [
    "# get dummies\n",
    "\n",
    "df_dum = pd.get_dummies(final_df, columns = ['circuit_id', 'nationality', 'constructor'] )\n",
    "\n",
    "for col in df_dum.columns:\n",
    "    if 'nationality' in col and df_dum[col].sum() < 140:\n",
    "        df_dum.drop(col, axis = 1, inplace = True)\n",
    "        \n",
    "    elif 'constructor' in col and df_dum[col].sum() < 140:\n",
    "        df_dum.drop(col, axis = 1, inplace = True)\n",
    "        \n",
    "    elif 'circuit_id' in col and df_dum[col].sum() < 70:\n",
    "        df_dum.drop(col, axis = 1, inplace = True)\n",
    "    \n",
    "    else:\n",
    "        pass"
   ]
  },
  {
   "cell_type": "code",
   "execution_count": 14,
   "metadata": {
    "ExecuteTime": {
     "end_time": "2020-05-09T11:45:11.724554Z",
     "start_time": "2020-05-09T11:45:11.717565Z"
    }
   },
   "outputs": [
    {
     "data": {
      "text/plain": [
       "(3040, 56)"
      ]
     },
     "execution_count": 14,
     "metadata": {},
     "output_type": "execute_result"
    }
   ],
   "source": [
    "df_dum.shape"
   ]
  },
  {
   "cell_type": "code",
   "execution_count": 15,
   "metadata": {
    "ExecuteTime": {
     "end_time": "2020-05-09T11:45:24.554162Z",
     "start_time": "2020-05-09T11:45:24.277357Z"
    }
   },
   "outputs": [],
   "source": [
    "df_dum.to_csv('final_df.csv', index = False)"
   ]
  },
  {
   "cell_type": "code",
   "execution_count": null,
   "metadata": {},
   "outputs": [],
   "source": []
  }
 ],
 "metadata": {
  "kernelspec": {
   "display_name": "Python 3 (ipykernel)",
   "language": "python",
   "name": "python3"
  },
  "language_info": {
   "codemirror_mode": {
    "name": "ipython",
    "version": 3
   },
   "file_extension": ".py",
   "mimetype": "text/x-python",
   "name": "python",
   "nbconvert_exporter": "python",
   "pygments_lexer": "ipython3",
   "version": "3.9.12"
  },
  "toc": {
   "base_numbering": 1,
   "nav_menu": {},
   "number_sections": true,
   "sideBar": true,
   "skip_h1_title": false,
   "title_cell": "Table of Contents",
   "title_sidebar": "Contents",
   "toc_cell": false,
   "toc_position": {},
   "toc_section_display": true,
   "toc_window_display": false
  },
  "varInspector": {
   "cols": {
    "lenName": 16,
    "lenType": 16,
    "lenVar": 40
   },
   "kernels_config": {
    "python": {
     "delete_cmd_postfix": "",
     "delete_cmd_prefix": "del ",
     "library": "var_list.py",
     "varRefreshCmd": "print(var_dic_list())"
    },
    "r": {
     "delete_cmd_postfix": ") ",
     "delete_cmd_prefix": "rm(",
     "library": "var_list.r",
     "varRefreshCmd": "cat(var_dic_list()) "
    }
   },
   "types_to_exclude": [
    "module",
    "function",
    "builtin_function_or_method",
    "instance",
    "_Feature"
   ],
   "window_display": false
  }
 },
 "nbformat": 4,
 "nbformat_minor": 4
}
